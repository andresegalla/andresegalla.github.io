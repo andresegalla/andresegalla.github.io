{
 "cells": [
  {
   "cell_type": "markdown",
   "id": "9c6f4f8b",
   "metadata": {},
   "source": [
    "# Financiamento Imobiliário\n",
    "\n",
    "Neste notebook são derivadas fórmulas relativas ao financimento de imóveis segundo o sistema SAC e implementadas  e simuladas para um caso específico.\n",
    "\n",
    "\n",
    "\n",
    "# Derivações de fórmulas\n",
    "\n",
    "## Definições\n",
    "\n",
    "\n",
    "\n",
    "- $V$: valor do imóvel\n",
    "- $E$: valor de entrada\n",
    "- $F$: valor do financiamento = $V - E$ \n",
    "- $\\tau$: taxa de juros (efetiva) mensal\n",
    "- $t$: mês\n",
    "- $T$: prazo do financiamento em meses\n",
    "- $D$: saldo devedor\n",
    "\n",
    "\n",
    "\n",
    "## Valor da Parcela\n",
    "Por definição, temos que a parcela $P$ a ser paga num determinado mês $t$ é dada pelo valor a ser amortizado $A(t)$ somado aos juros $j(t)$:\n",
    "\n",
    "$$P(t) = A(t) + J(t).$$\n",
    "\n",
    "O valor de amortização é constante e dado pela valor financiamento dividido pelo número total de parcelas a serem pagas:\n",
    "\n",
    "$$A(t) = \\frac{F}{T} = \\frac{V - E}{T}.$$\n",
    "\n",
    "Já o juros $J(t)$ é o juros sobre o saldo devedor no mês $t$: $D(t)$, ou seja:\n",
    "\n",
    "$$J(t) = \\tau D(t).$$\n",
    "\n",
    "O salvo devedor $D(t)$ é o valor do financiamento $F$ menos o total que já foi amortizado até o mês $t$, que nada mais é do que o número de meses anteriores ($t-1$) multiplicado pelo valor da amortização $A$:\n",
    "\n",
    "$$D(t) = F - (t-1)A = F - (t-1)\\frac{F}{T} = F\\left (1 - \\frac{t-1}{T}\\right).$$\n",
    "\n",
    "Portanto, temos então para o valor da parcela:\n",
    "\n",
    "$$P(t) = A + J(t) = \\frac{F}{T} + \\tau F\\left (1 - \\frac{t-1}{T}\\right).$$ \n",
    "\n",
    "Podemos dividir a equação acima pelo valor do Financiamento $F$, para termos grandezas normalizadas como frações de $F$, que denotamos por suas respectivas letras minúsculas:\n",
    "\n",
    "$$p(t) = a + j(t) = \\frac{1}{T} + \\tau \\left (1 - \\frac{t-1}{T}\\right).$$ \n",
    "\n",
    "A equação acima é linear em $t$, ou seja, a parcela decresce linearmente com o mês:\n",
    "\n",
    "$$p(t)  = -\\alpha t + \\beta,$$\n",
    "\n",
    "onde\n",
    "\n",
    "$$\\alpha = \\frac{\\tau}{T},\\quad \\beta = \\frac{1}{T} + \\tau \\left(1 + \\frac{1}{T}\\right).$$\n",
    "\n",
    "\n",
    "Podemos também escrever o valor da parcela em relação ao valor to imóvel. Considerando uma entrada $E$, temos  de $V = E + F$ que $F = V - E = V(1-\\epsilon)$. Então:\n",
    "\n",
    "$$p_V(t) = (1-\\epsilon) p(t)  = (1-\\epsilon)\\left[ \\frac{1}{T} + \\tau \\left (1 - \\frac{t-1}{T}\\right)\\right].$$\n",
    "\n",
    "## Valor total a ser pago \n",
    "Algo interessante de se calcular é o total a ser pago ao longo de todo financiamento, que é dado pela soma das parcelas:\n",
    "\n",
    "$$\\mathcal{f} = \\sum\\limits_{t=1}^T p(t) = \\beta T - \\alpha  \\sum\\limits_{t=1}^T t = \\beta T - \\alpha\\frac{T(T+1)}{2}$$\n",
    "\n",
    "$$\\Rightarrow \\mathcal{f} = T\\left[ \\frac{1}{T} + \\tau \\left(1 + \\frac{1}{T}\\right)\\right] - \\frac{\\tau}{2}(T+1)$$\n",
    "\n",
    "$$ \\Rightarrow \\mathcal{f} = 1 + \\tau \\left(\\frac{T+1}{2}\\right).$$\n",
    "\n",
    "Lembrando que esse valor é normalizado em função do valor do financiamento $F$, podemos calcular explicitamente o valor total pago, $\\mathcal{V}$, considerando um valor de imóvel $V$ e um valor de entrada $E$: \n",
    "\n",
    "$$\\mathcal{V} = E + f  F = E + (V-E)f.$$\n",
    "\n",
    "Definindo $\\epsilon:=E/V$ como a fração da entrada em relação ao valor do imóvel $V$ e dividindo a equação acima por $V$, obtemos o % pago em relação ao valor do imóvel, $v$, obtemos:\n",
    "\n",
    "$$v = \\frac{\\mathcal{V}}{V} = \\epsilon + (1-\\epsilon)\\left[1 + \\tau \\left(\\frac{T+1}{2}\\right)\\right] = 1 + \\tau \\left( \\frac{T+1}{2}\\right)(1-\\epsilon).$$\n",
    "\n"
   ]
  },
  {
   "cell_type": "markdown",
   "id": "0fe18fc3",
   "metadata": {},
   "source": [
    "# Imports"
   ]
  },
  {
   "cell_type": "code",
   "execution_count": 2,
   "id": "033e8818",
   "metadata": {
    "ExecuteTime": {
     "end_time": "2023-11-19T18:06:24.669070Z",
     "start_time": "2023-11-19T18:06:23.374830Z"
    }
   },
   "outputs": [],
   "source": [
    "import numpy as np\n",
    "import matplotlib.pyplot as plt\n",
    "import seaborn as sns\n",
    "import pandas as pd\n",
    "import matplotlib.ticker as mtick"
   ]
  },
  {
   "cell_type": "code",
   "execution_count": 3,
   "id": "c1460f26",
   "metadata": {
    "ExecuteTime": {
     "end_time": "2023-11-19T18:06:24.676324Z",
     "start_time": "2023-11-19T18:06:24.674985Z"
    }
   },
   "outputs": [],
   "source": [
    "sns.set_style('whitegrid')"
   ]
  },
  {
   "cell_type": "markdown",
   "id": "5b9ce0f5",
   "metadata": {},
   "source": [
    "# Funções"
   ]
  },
  {
   "cell_type": "code",
   "execution_count": 4,
   "id": "b008a3e7",
   "metadata": {
    "ExecuteTime": {
     "end_time": "2023-11-19T18:33:38.681927Z",
     "start_time": "2023-11-19T18:33:38.660365Z"
    }
   },
   "outputs": [],
   "source": [
    "def saldo_devedor_por_mes(mes, taxa_de_juros_ao_mes, prazo_em_meses):\n",
    "    return 1 - (mes-1)/prazo_em_meses\n",
    "\n",
    "\n",
    "def juros_por_mes(mes, taxa_de_juros_ao_mes, prazo_em_meses):\n",
    "    return taxa_de_juros_ao_mes * saldo_devedor_por_mes(mes, taxa_de_juros_ao_mes, prazo_em_meses)\n",
    "\n",
    "\n",
    "def valor_total_pago(fracao_entrada, taxa_de_juros_ao_mes, prazo_em_meses):\n",
    "    return fracao_entrada + (1 - fracao_entrada)* (1 + taxa_de_juros_ao_mes * (prazo_em_meses+1)/2 )\n",
    "\n",
    "\n",
    "def parcela_sobre_valor_financiado(mes, taxa_de_juros_ao_mes, prazo_em_meses):\n",
    "    return 1/prazo_em_meses + juros_por_mes(mes, taxa_de_juros_ao_mes, prazo_em_meses)\n",
    "\n",
    "\n",
    "def parcela_sobre_valor_do_imovel(fracao_entrada, mes, taxa_de_juros_ao_mes, prazo_em_meses):\n",
    "    return (1 - fracao_entrada) * parcela_sobre_valor_financiado(mes, taxa_de_juros_ao_mes, prazo_em_meses)\n",
    "\n",
    "\n",
    "def converte_para_taxa_mensal(taxa_anual):\n",
    "    return (1 + taxa_anual)**(1/12)-1\n",
    "\n",
    "\n",
    "def calcula_valor_presente(parcelas, taxa_livre_de_risco):\n",
    "    valor_presente = (parcelas/(1+taxa_livre_de_risco)**np.arange(1,len(parcelas)+1)).sum()\n",
    "    return valor_presente\n",
    "\n",
    "\n",
    "def simula_financiamento(valor_do_imovel, valor_da_entrada, taxa_de_juros_ao_ano, prazo_em_meses):\n",
    "    valor_do_financiamento = valor_do_imovel - valor_da_entrada\n",
    "    fracao_entrada = valor_da_entrada/valor_do_imovel\n",
    "    taxa_de_juros_ao_mes = converte_para_taxa_mensal(taxa_de_juros_ao_ano)\n",
    "\n",
    "    meses = np.arange(1, prazo_em_meses + 1)\n",
    "    saldo_devedor = saldo_devedor_por_mes(meses, taxa_de_juros_ao_mes, prazo_em_meses)\n",
    "    juros = saldo_devedor * taxa_de_juros_ao_mes\n",
    "    amortizacao = 1/prazo_em_meses\n",
    "    parcelas = amortizacao + juros\n",
    "    \n",
    "    Saldo_devedor = valor_do_financiamento * saldo_devedor\n",
    "    Juros = valor_do_financiamento * juros\n",
    "    Parcelas = valor_do_financiamento * parcelas\n",
    "    Amortizacao = valor_do_financiamento * amortizacao  \n",
    "    \n",
    "    return pd.DataFrame(\n",
    "        data = {\n",
    "         'mes': meses,\n",
    "         'parcela': Parcelas,\n",
    "         'amortizacao': Amortizacao, \n",
    "         'juros': Juros,\n",
    "         'saldo_devedor': Saldo_devedor            \n",
    "        }\n",
    "    )"
   ]
  },
  {
   "cell_type": "code",
   "execution_count": 5,
   "id": "4a25dc59",
   "metadata": {
    "ExecuteTime": {
     "end_time": "2023-11-19T18:33:39.285108Z",
     "start_time": "2023-11-19T18:33:39.276874Z"
    }
   },
   "outputs": [],
   "source": [
    "pct_fmt = mtick.PercentFormatter(xmax=1)"
   ]
  },
  {
   "cell_type": "markdown",
   "id": "8b6d23b0",
   "metadata": {},
   "source": [
    "# Simulação"
   ]
  },
  {
   "cell_type": "markdown",
   "id": "10fa3041",
   "metadata": {},
   "source": [
    "## dados de entrada"
   ]
  },
  {
   "cell_type": "code",
   "execution_count": 10,
   "id": "8787c743",
   "metadata": {
    "ExecuteTime": {
     "end_time": "2023-11-19T18:33:40.159056Z",
     "start_time": "2023-11-19T18:33:40.146276Z"
    }
   },
   "outputs": [],
   "source": [
    "prazo_em_meses = 360 # 30 anos\n",
    "taxa_de_juros_ao_ano = 0.1139\n",
    "taxa_livre_de_risco = converte_para_taxa_mensal(0.1341)\n",
    "taxa_de_juros_ao_mes = converte_para_taxa_mensal(taxa_de_juros_ao_ano)\n",
    "\n",
    "valor_do_imovel = 520000\n",
    "valor_da_entrada = 300000\n",
    "\n",
    "valor_do_financiamento = valor_do_imovel - valor_da_entrada\n",
    "fracao_entrada = valor_da_entrada/valor_do_imovel"
   ]
  },
  {
   "cell_type": "code",
   "execution_count": 11,
   "id": "ba01a3ce",
   "metadata": {
    "ExecuteTime": {
     "end_time": "2023-11-19T18:33:43.854890Z",
     "start_time": "2023-11-19T18:33:43.835088Z"
    }
   },
   "outputs": [],
   "source": [
    "df = simula_financiamento(valor_do_imovel, valor_da_entrada, taxa_de_juros_ao_ano, prazo_em_meses)"
   ]
  },
  {
   "cell_type": "code",
   "execution_count": 27,
   "id": "34c4db92-1263-4dd9-b330-caa5cd95eeaa",
   "metadata": {},
   "outputs": [],
   "source": [
    "df2 = simula_financiamento(valor_do_imovel, valor_da_entrada, 0.0901, prazo_em_meses)"
   ]
  },
  {
   "cell_type": "code",
   "execution_count": 28,
   "id": "f2b3874b-d9ff-4e30-a0cb-a0d12c111752",
   "metadata": {},
   "outputs": [],
   "source": [
    "df3 = simula_financiamento(valor_do_imovel, valor_da_entrada, 0.1041, prazo_em_meses)"
   ]
  },
  {
   "cell_type": "code",
   "execution_count": 24,
   "id": "0237f382-c654-460f-b722-ab65bf4e3264",
   "metadata": {},
   "outputs": [
    {
     "data": {
      "text/html": [
       "<div>\n",
       "<style scoped>\n",
       "    .dataframe tbody tr th:only-of-type {\n",
       "        vertical-align: middle;\n",
       "    }\n",
       "\n",
       "    .dataframe tbody tr th {\n",
       "        vertical-align: top;\n",
       "    }\n",
       "\n",
       "    .dataframe thead th {\n",
       "        text-align: right;\n",
       "    }\n",
       "</style>\n",
       "<table border=\"1\" class=\"dataframe\">\n",
       "  <thead>\n",
       "    <tr style=\"text-align: right;\">\n",
       "      <th></th>\n",
       "      <th>mes</th>\n",
       "      <th>parcela</th>\n",
       "      <th>amortizacao</th>\n",
       "      <th>juros</th>\n",
       "      <th>saldo_devedor</th>\n",
       "    </tr>\n",
       "  </thead>\n",
       "  <tbody>\n",
       "    <tr>\n",
       "      <th>0</th>\n",
       "      <td>1</td>\n",
       "      <td>2597.594398</td>\n",
       "      <td>611.111111</td>\n",
       "      <td>1986.483287</td>\n",
       "      <td>220000.000000</td>\n",
       "    </tr>\n",
       "    <tr>\n",
       "      <th>1</th>\n",
       "      <td>2</td>\n",
       "      <td>2592.076389</td>\n",
       "      <td>611.111111</td>\n",
       "      <td>1980.965278</td>\n",
       "      <td>219388.888889</td>\n",
       "    </tr>\n",
       "    <tr>\n",
       "      <th>2</th>\n",
       "      <td>3</td>\n",
       "      <td>2586.558380</td>\n",
       "      <td>611.111111</td>\n",
       "      <td>1975.447269</td>\n",
       "      <td>218777.777778</td>\n",
       "    </tr>\n",
       "    <tr>\n",
       "      <th>3</th>\n",
       "      <td>4</td>\n",
       "      <td>2581.040371</td>\n",
       "      <td>611.111111</td>\n",
       "      <td>1969.929260</td>\n",
       "      <td>218166.666667</td>\n",
       "    </tr>\n",
       "    <tr>\n",
       "      <th>4</th>\n",
       "      <td>5</td>\n",
       "      <td>2575.522362</td>\n",
       "      <td>611.111111</td>\n",
       "      <td>1964.411251</td>\n",
       "      <td>217555.555556</td>\n",
       "    </tr>\n",
       "    <tr>\n",
       "      <th>...</th>\n",
       "      <td>...</td>\n",
       "      <td>...</td>\n",
       "      <td>...</td>\n",
       "      <td>...</td>\n",
       "      <td>...</td>\n",
       "    </tr>\n",
       "    <tr>\n",
       "      <th>355</th>\n",
       "      <td>356</td>\n",
       "      <td>638.701157</td>\n",
       "      <td>611.111111</td>\n",
       "      <td>27.590046</td>\n",
       "      <td>3055.555556</td>\n",
       "    </tr>\n",
       "    <tr>\n",
       "      <th>356</th>\n",
       "      <td>357</td>\n",
       "      <td>633.183148</td>\n",
       "      <td>611.111111</td>\n",
       "      <td>22.072037</td>\n",
       "      <td>2444.444444</td>\n",
       "    </tr>\n",
       "    <tr>\n",
       "      <th>357</th>\n",
       "      <td>358</td>\n",
       "      <td>627.665139</td>\n",
       "      <td>611.111111</td>\n",
       "      <td>16.554027</td>\n",
       "      <td>1833.333333</td>\n",
       "    </tr>\n",
       "    <tr>\n",
       "      <th>358</th>\n",
       "      <td>359</td>\n",
       "      <td>622.147129</td>\n",
       "      <td>611.111111</td>\n",
       "      <td>11.036018</td>\n",
       "      <td>1222.222222</td>\n",
       "    </tr>\n",
       "    <tr>\n",
       "      <th>359</th>\n",
       "      <td>360</td>\n",
       "      <td>616.629120</td>\n",
       "      <td>611.111111</td>\n",
       "      <td>5.518009</td>\n",
       "      <td>611.111111</td>\n",
       "    </tr>\n",
       "  </tbody>\n",
       "</table>\n",
       "<p>360 rows × 5 columns</p>\n",
       "</div>"
      ],
      "text/plain": [
       "     mes      parcela  amortizacao        juros  saldo_devedor\n",
       "0      1  2597.594398   611.111111  1986.483287  220000.000000\n",
       "1      2  2592.076389   611.111111  1980.965278  219388.888889\n",
       "2      3  2586.558380   611.111111  1975.447269  218777.777778\n",
       "3      4  2581.040371   611.111111  1969.929260  218166.666667\n",
       "4      5  2575.522362   611.111111  1964.411251  217555.555556\n",
       "..   ...          ...          ...          ...            ...\n",
       "355  356   638.701157   611.111111    27.590046    3055.555556\n",
       "356  357   633.183148   611.111111    22.072037    2444.444444\n",
       "357  358   627.665139   611.111111    16.554027    1833.333333\n",
       "358  359   622.147129   611.111111    11.036018    1222.222222\n",
       "359  360   616.629120   611.111111     5.518009     611.111111\n",
       "\n",
       "[360 rows x 5 columns]"
      ]
     },
     "execution_count": 24,
     "metadata": {},
     "output_type": "execute_result"
    }
   ],
   "source": [
    "df"
   ]
  },
  {
   "cell_type": "code",
   "execution_count": 29,
   "id": "0e56ca67-7989-4bc8-8dcd-a57fed6acb45",
   "metadata": {},
   "outputs": [
    {
     "data": {
      "text/html": [
       "<div>\n",
       "<style scoped>\n",
       "    .dataframe tbody tr th:only-of-type {\n",
       "        vertical-align: middle;\n",
       "    }\n",
       "\n",
       "    .dataframe tbody tr th {\n",
       "        vertical-align: top;\n",
       "    }\n",
       "\n",
       "    .dataframe thead th {\n",
       "        text-align: right;\n",
       "    }\n",
       "</style>\n",
       "<table border=\"1\" class=\"dataframe\">\n",
       "  <thead>\n",
       "    <tr style=\"text-align: right;\">\n",
       "      <th></th>\n",
       "      <th>mes</th>\n",
       "      <th>parcela</th>\n",
       "      <th>amortizacao</th>\n",
       "      <th>juros</th>\n",
       "      <th>saldo_devedor</th>\n",
       "    </tr>\n",
       "  </thead>\n",
       "  <tbody>\n",
       "    <tr>\n",
       "      <th>0</th>\n",
       "      <td>1</td>\n",
       "      <td>2198.416249</td>\n",
       "      <td>611.111111</td>\n",
       "      <td>1587.305138</td>\n",
       "      <td>220000.000000</td>\n",
       "    </tr>\n",
       "    <tr>\n",
       "      <th>1</th>\n",
       "      <td>2</td>\n",
       "      <td>2194.007068</td>\n",
       "      <td>611.111111</td>\n",
       "      <td>1582.895957</td>\n",
       "      <td>219388.888889</td>\n",
       "    </tr>\n",
       "    <tr>\n",
       "      <th>2</th>\n",
       "      <td>3</td>\n",
       "      <td>2189.597887</td>\n",
       "      <td>611.111111</td>\n",
       "      <td>1578.486776</td>\n",
       "      <td>218777.777778</td>\n",
       "    </tr>\n",
       "    <tr>\n",
       "      <th>3</th>\n",
       "      <td>4</td>\n",
       "      <td>2185.188706</td>\n",
       "      <td>611.111111</td>\n",
       "      <td>1574.077595</td>\n",
       "      <td>218166.666667</td>\n",
       "    </tr>\n",
       "    <tr>\n",
       "      <th>4</th>\n",
       "      <td>5</td>\n",
       "      <td>2180.779525</td>\n",
       "      <td>611.111111</td>\n",
       "      <td>1569.668414</td>\n",
       "      <td>217555.555556</td>\n",
       "    </tr>\n",
       "    <tr>\n",
       "      <th>...</th>\n",
       "      <td>...</td>\n",
       "      <td>...</td>\n",
       "      <td>...</td>\n",
       "      <td>...</td>\n",
       "      <td>...</td>\n",
       "    </tr>\n",
       "    <tr>\n",
       "      <th>355</th>\n",
       "      <td>356</td>\n",
       "      <td>633.157016</td>\n",
       "      <td>611.111111</td>\n",
       "      <td>22.045905</td>\n",
       "      <td>3055.555556</td>\n",
       "    </tr>\n",
       "    <tr>\n",
       "      <th>356</th>\n",
       "      <td>357</td>\n",
       "      <td>628.747835</td>\n",
       "      <td>611.111111</td>\n",
       "      <td>17.636724</td>\n",
       "      <td>2444.444444</td>\n",
       "    </tr>\n",
       "    <tr>\n",
       "      <th>357</th>\n",
       "      <td>358</td>\n",
       "      <td>624.338654</td>\n",
       "      <td>611.111111</td>\n",
       "      <td>13.227543</td>\n",
       "      <td>1833.333333</td>\n",
       "    </tr>\n",
       "    <tr>\n",
       "      <th>358</th>\n",
       "      <td>359</td>\n",
       "      <td>619.929473</td>\n",
       "      <td>611.111111</td>\n",
       "      <td>8.818362</td>\n",
       "      <td>1222.222222</td>\n",
       "    </tr>\n",
       "    <tr>\n",
       "      <th>359</th>\n",
       "      <td>360</td>\n",
       "      <td>615.520292</td>\n",
       "      <td>611.111111</td>\n",
       "      <td>4.409181</td>\n",
       "      <td>611.111111</td>\n",
       "    </tr>\n",
       "  </tbody>\n",
       "</table>\n",
       "<p>360 rows × 5 columns</p>\n",
       "</div>"
      ],
      "text/plain": [
       "     mes      parcela  amortizacao        juros  saldo_devedor\n",
       "0      1  2198.416249   611.111111  1587.305138  220000.000000\n",
       "1      2  2194.007068   611.111111  1582.895957  219388.888889\n",
       "2      3  2189.597887   611.111111  1578.486776  218777.777778\n",
       "3      4  2185.188706   611.111111  1574.077595  218166.666667\n",
       "4      5  2180.779525   611.111111  1569.668414  217555.555556\n",
       "..   ...          ...          ...          ...            ...\n",
       "355  356   633.157016   611.111111    22.045905    3055.555556\n",
       "356  357   628.747835   611.111111    17.636724    2444.444444\n",
       "357  358   624.338654   611.111111    13.227543    1833.333333\n",
       "358  359   619.929473   611.111111     8.818362    1222.222222\n",
       "359  360   615.520292   611.111111     4.409181     611.111111\n",
       "\n",
       "[360 rows x 5 columns]"
      ]
     },
     "execution_count": 29,
     "metadata": {},
     "output_type": "execute_result"
    }
   ],
   "source": [
    "df2"
   ]
  },
  {
   "cell_type": "code",
   "execution_count": 30,
   "id": "c8779778-5096-4923-81c6-1305c46cc5d2",
   "metadata": {},
   "outputs": [
    {
     "data": {
      "text/html": [
       "<div>\n",
       "<style scoped>\n",
       "    .dataframe tbody tr th:only-of-type {\n",
       "        vertical-align: middle;\n",
       "    }\n",
       "\n",
       "    .dataframe tbody tr th {\n",
       "        vertical-align: top;\n",
       "    }\n",
       "\n",
       "    .dataframe thead th {\n",
       "        text-align: right;\n",
       "    }\n",
       "</style>\n",
       "<table border=\"1\" class=\"dataframe\">\n",
       "  <thead>\n",
       "    <tr style=\"text-align: right;\">\n",
       "      <th></th>\n",
       "      <th>mes</th>\n",
       "      <th>parcela</th>\n",
       "      <th>amortizacao</th>\n",
       "      <th>juros</th>\n",
       "      <th>saldo_devedor</th>\n",
       "    </tr>\n",
       "  </thead>\n",
       "  <tbody>\n",
       "    <tr>\n",
       "      <th>0</th>\n",
       "      <td>1</td>\n",
       "      <td>2434.182851</td>\n",
       "      <td>611.111111</td>\n",
       "      <td>1823.071740</td>\n",
       "      <td>220000.000000</td>\n",
       "    </tr>\n",
       "    <tr>\n",
       "      <th>1</th>\n",
       "      <td>2</td>\n",
       "      <td>2429.118763</td>\n",
       "      <td>611.111111</td>\n",
       "      <td>1818.007652</td>\n",
       "      <td>219388.888889</td>\n",
       "    </tr>\n",
       "    <tr>\n",
       "      <th>2</th>\n",
       "      <td>3</td>\n",
       "      <td>2424.054675</td>\n",
       "      <td>611.111111</td>\n",
       "      <td>1812.943563</td>\n",
       "      <td>218777.777778</td>\n",
       "    </tr>\n",
       "    <tr>\n",
       "      <th>3</th>\n",
       "      <td>4</td>\n",
       "      <td>2418.990586</td>\n",
       "      <td>611.111111</td>\n",
       "      <td>1807.879475</td>\n",
       "      <td>218166.666667</td>\n",
       "    </tr>\n",
       "    <tr>\n",
       "      <th>4</th>\n",
       "      <td>5</td>\n",
       "      <td>2413.926498</td>\n",
       "      <td>611.111111</td>\n",
       "      <td>1802.815387</td>\n",
       "      <td>217555.555556</td>\n",
       "    </tr>\n",
       "    <tr>\n",
       "      <th>...</th>\n",
       "      <td>...</td>\n",
       "      <td>...</td>\n",
       "      <td>...</td>\n",
       "      <td>...</td>\n",
       "      <td>...</td>\n",
       "    </tr>\n",
       "    <tr>\n",
       "      <th>355</th>\n",
       "      <td>356</td>\n",
       "      <td>636.431552</td>\n",
       "      <td>611.111111</td>\n",
       "      <td>25.320441</td>\n",
       "      <td>3055.555556</td>\n",
       "    </tr>\n",
       "    <tr>\n",
       "      <th>356</th>\n",
       "      <td>357</td>\n",
       "      <td>631.367464</td>\n",
       "      <td>611.111111</td>\n",
       "      <td>20.256353</td>\n",
       "      <td>2444.444444</td>\n",
       "    </tr>\n",
       "    <tr>\n",
       "      <th>357</th>\n",
       "      <td>358</td>\n",
       "      <td>626.303376</td>\n",
       "      <td>611.111111</td>\n",
       "      <td>15.192264</td>\n",
       "      <td>1833.333333</td>\n",
       "    </tr>\n",
       "    <tr>\n",
       "      <th>358</th>\n",
       "      <td>359</td>\n",
       "      <td>621.239287</td>\n",
       "      <td>611.111111</td>\n",
       "      <td>10.128176</td>\n",
       "      <td>1222.222222</td>\n",
       "    </tr>\n",
       "    <tr>\n",
       "      <th>359</th>\n",
       "      <td>360</td>\n",
       "      <td>616.175199</td>\n",
       "      <td>611.111111</td>\n",
       "      <td>5.064088</td>\n",
       "      <td>611.111111</td>\n",
       "    </tr>\n",
       "  </tbody>\n",
       "</table>\n",
       "<p>360 rows × 5 columns</p>\n",
       "</div>"
      ],
      "text/plain": [
       "     mes      parcela  amortizacao        juros  saldo_devedor\n",
       "0      1  2434.182851   611.111111  1823.071740  220000.000000\n",
       "1      2  2429.118763   611.111111  1818.007652  219388.888889\n",
       "2      3  2424.054675   611.111111  1812.943563  218777.777778\n",
       "3      4  2418.990586   611.111111  1807.879475  218166.666667\n",
       "4      5  2413.926498   611.111111  1802.815387  217555.555556\n",
       "..   ...          ...          ...          ...            ...\n",
       "355  356   636.431552   611.111111    25.320441    3055.555556\n",
       "356  357   631.367464   611.111111    20.256353    2444.444444\n",
       "357  358   626.303376   611.111111    15.192264    1833.333333\n",
       "358  359   621.239287   611.111111    10.128176    1222.222222\n",
       "359  360   616.175199   611.111111     5.064088     611.111111\n",
       "\n",
       "[360 rows x 5 columns]"
      ]
     },
     "execution_count": 30,
     "metadata": {},
     "output_type": "execute_result"
    }
   ],
   "source": [
    "df3"
   ]
  },
  {
   "cell_type": "code",
   "execution_count": 12,
   "id": "d647c885-322b-44aa-81aa-7d9010e220a4",
   "metadata": {},
   "outputs": [
    {
     "data": {
      "text/plain": [
       "Text(0.5, 0, 'mês')"
      ]
     },
     "execution_count": 12,
     "metadata": {},
     "output_type": "execute_result"
    },
    {
     "data": {
      "image/png": "[encoded data removed]",
      "text/plain": [
       "<Figure size 640x480 with 1 Axes>"
      ]
     },
     "metadata": {},
     "output_type": "display_data"
    }
   ],
   "source": [
    "ax=df.set_index('mes')[['parcela', 'amortizacao', 'juros']].plot()\n",
    "ax.set_ylabel(\"R$\")\n",
    "ax.set_xlabel('mês')"
   ]
  },
  {
   "cell_type": "code",
   "execution_count": 13,
   "id": "1386c9b2-f835-494b-8525-31a1942fd0b6",
   "metadata": {},
   "outputs": [
    {
     "data": {
      "text/plain": [
       "Text(0.5, 0, 'mês')"
      ]
     },
     "execution_count": 13,
     "metadata": {},
     "output_type": "execute_result"
    },
    {
     "data": {
      "image/png": "[encoded data removed]",
      "text/plain": [
       "<Figure size 640x480 with 1 Axes>"
      ]
     },
     "metadata": {},
     "output_type": "display_data"
    }
   ],
   "source": [
    "ax=df.set_index('mes')[['parcela', 'amortizacao', 'juros']].cumsum().plot()\n",
    "ax.set_ylabel(\"R$ acumulado\")\n",
    "ax.set_xlabel('mês')"
   ]
  },
  {
   "cell_type": "code",
   "execution_count": 14,
   "id": "3bda4e75",
   "metadata": {
    "ExecuteTime": {
     "end_time": "2023-11-19T18:01:55.824695Z",
     "start_time": "2023-11-19T18:01:55.710594Z"
    }
   },
   "outputs": [
    {
     "data": {
      "image/png": "[encoded data removed]",
      "text/plain": [
       "<Figure size 700x400 with 1 Axes>"
      ]
     },
     "metadata": {},
     "output_type": "display_data"
    }
   ],
   "source": [
    "fracao_entrada = np.arange(0.1, 1.1, 0.1)\n",
    "\n",
    "f, ax = plt.subplots(1,1,figsize=(7,4), dpi=100)\n",
    "\n",
    "fracao_valor_total = valor_total_pago(fracao_entrada, taxa_de_juros_ao_mes, prazo_em_meses)\n",
    "ax.plot(fracao_entrada, fracao_valor_total)\n",
    "\n",
    "ax.set_xlabel('fração da entrada')\n",
    "ax.set_ylabel('total pago em relação ao imóvel')\n",
    "ax.xaxis.set_major_formatter(pct_fmt)\n",
    "ax.yaxis.set_major_formatter(pct_fmt)"
   ]
  },
  {
   "cell_type": "code",
   "execution_count": 16,
   "id": "54280d9d",
   "metadata": {
    "ExecuteTime": {
     "end_time": "2023-11-19T18:07:49.560024Z",
     "start_time": "2023-11-19T18:07:49.549693Z"
    }
   },
   "outputs": [],
   "source": [
    "valor_presente = (calcula_valor_presente(df.parcela, taxa_livre_de_risco) + valor_da_entrada)"
   ]
  },
  {
   "cell_type": "code",
   "execution_count": 17,
   "id": "b8bdca1c",
   "metadata": {
    "ExecuteTime": {
     "end_time": "2023-11-19T18:11:56.808132Z",
     "start_time": "2023-11-19T18:11:56.797344Z"
    }
   },
   "outputs": [
    {
     "data": {
      "text/plain": [
       "496564.53965810593"
      ]
     },
     "execution_count": 17,
     "metadata": {},
     "output_type": "execute_result"
    }
   ],
   "source": [
    "valor_presente"
   ]
  },
  {
   "cell_type": "code",
   "execution_count": 19,
   "id": "5d8b9de4",
   "metadata": {
    "ExecuteTime": {
     "end_time": "2023-11-19T18:10:03.621824Z",
     "start_time": "2023-11-19T18:10:03.610612Z"
    }
   },
   "outputs": [
    {
     "data": {
      "text/plain": [
       "0.9549318070348191"
      ]
     },
     "execution_count": 19,
     "metadata": {},
     "output_type": "execute_result"
    }
   ],
   "source": [
    "valor_presente/valor_do_imovel"
   ]
  },
  {
   "cell_type": "code",
   "execution_count": null,
   "id": "01c3d74f-e1d3-405c-aa5c-2ba20649d7fb",
   "metadata": {},
   "outputs": [],
   "source": []
  }
 ],
 "metadata": {
  "kernelspec": {
   "display_name": "Python 3 (ipykernel)",
   "language": "python",
   "name": "python3"
  },
  "language_info": {
   "codemirror_mode": {
    "name": "ipython",
    "version": 3
   },
   "file_extension": ".py",
   "mimetype": "text/x-python",
   "name": "python",
   "nbconvert_exporter": "python",
   "pygments_lexer": "ipython3",
   "version": "3.12.0"
  },
  "toc": {
   "base_numbering": 1,
   "nav_menu": {},
   "number_sections": true,
   "sideBar": true,
   "skip_h1_title": false,
   "title_cell": "Table of Contents",
   "title_sidebar": "Contents",
   "toc_cell": false,
   "toc_position": {},
   "toc_section_display": true,
   "toc_window_display": false
  },
  "varInspector": {
   "cols": {
    "lenName": 16,
    "lenType": 16,
    "lenVar": 40
   },
   "kernels_config": {
    "python": {
     "delete_cmd_postfix": "",
     "delete_cmd_prefix": "del ",
     "library": "var_list.py",
     "varRefreshCmd": "print(var_dic_list())"
    },
    "r": {
     "delete_cmd_postfix": ") ",
     "delete_cmd_prefix": "rm(",
     "library": "var_list.r",
     "varRefreshCmd": "cat(var_dic_list()) "
    }
   },
   "types_to_exclude": [
    "module",
    "function",
    "builtin_function_or_method",
    "instance",
    "_Feature"
   ],
   "window_display": false
  }
 },
 "nbformat": 4,
 "nbformat_minor": 5
}
